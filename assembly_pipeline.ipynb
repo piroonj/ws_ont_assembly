{
 "cells": [
  {
   "cell_type": "markdown",
   "metadata": {},
   "source": [
    "# Nanopore data analysis\n",
    "## Useful commands and workflow by Piroon Jenjaroenpun"
   ]
  },
  {
   "cell_type": "markdown",
   "metadata": {},
   "source": [
    "### 0. set up python environment for data analysis\n",
    "####  Anaconda installation\n",
    "Most of software could be installed via Conda. Conda is a cross-platform, language-agnostic binary package manager. It is the package manager used by Anaconda installations. "
   ]
  },
  {
   "cell_type": "markdown",
   "metadata": {},
   "source": [
    "**install program from Anaconda (Please use terminal)**\n",
    "```bash\n",
    "bash programs/Anaconda3-2019.07-MacOSX-x86_64.sh\n",
    "conda config --add channels defaults\n",
    "conda config --add channels conda-forge\n",
    "conda config --add channels bioconda\n",
    "conda config --add channels r\n",
    "conda install nb_conda jupyter_contrib_nbextensions jupyter \\\n",
    "  rpy2 ipykernel r-irkernel r-devtools parallel\n",
    "```\n"
   ]
  },
  {
   "cell_type": "markdown",
   "metadata": {},
   "source": [
    "#### Install conda environment"
   ]
  },
  {
   "cell_type": "markdown",
   "metadata": {},
   "source": [
    "**Please use Terminal**\n",
    "```bash\n",
    "conda create -n ont_assembly python=3 biopython nanofilt nanoplot porechop samtools minimap2 miniasm racon assembly-stats r-ggplot2 r-plotly r-optparse bioawk \n",
    "conda create -n unicycler unicycler\n",
    "conda create -n flye fly\n",
    "conda create -n bandage bandage\n",
    "ln -s ~/.conda/envs/bandage/bin/Bandage /home/adnano/.conda/envs/ont_assembly/bin/\n",
    "ln -s ~/.conda/envs/unicycler/bin/unicycler /home/adnano/.conda/envs/ont_assembly/bin/\n",
    "ln -s ~/.conda/envs/flye/bin/flye /home/adnano/.conda/envs/ont_assembly/bin/\n",
    "\n",
    "```\n",
    "\n",
    "**Activate environment**\n",
    "```bash\n",
    "source activate ont_assembly\n",
    "```\n",
    "**Install igv-jupyter**\n",
    "```bash\n",
    "pip install igv-jupyter\n",
    "# To install to configuration in your home directory\n",
    "jupyter serverextension enable --py igv\n",
    "jupyter nbextension install --py igv\n",
    "jupyter nbextension enable --py igv\n",
    "# If using a virtual environment\n",
    "jupyter serverextension enable --py igv --sys-prefix\n",
    "jupyter nbextension install --py igv --sys-prefix\n",
    "jupyter nbextension enable --py igv --sys-prefix\n",
    "```"
   ]
  },
  {
   "cell_type": "markdown",
   "metadata": {},
   "source": [
    "---"
   ]
  },
  {
   "cell_type": "markdown",
   "metadata": {},
   "source": [
    "### 1.basecalled\n",
    "Guppy is ONT's official command-line basecaller. Guppy basecaller is used to convert raw signal to DNA/RNA sequence. Guppy can be downloaded from the Nanopore community, but you'll need an account to log in."
   ]
  },
  {
   "cell_type": "markdown",
   "metadata": {},
   "source": [
    "#### run Guppy Basecalling\n",
    "\n",
    "<pre>\n",
    "Guppy Basecalling Software, (C) Oxford Nanopore Technologies, Limited. \n",
    "Version 2.3.5+53a111f\n",
    "\n",
    "Usage (basic command):\n",
    "\n",
    "With config file:\n",
    "  guppy_basecaller -i [input path] -s [save path] -c [config file] [options]\n",
    "With flowcell and kit name:\n",
    "  guppy_basecaller -i [input path] -s [save path] --flowcell [flowcell name]\n",
    "    --kit [kit name]\n",
    "List supported flowcells and kits:\n",
    "  guppy_basecaller --print_workflows\n",
    "Use server for basecalling:\n",
    "  guppy_basecaller -i [input path] -s [save path] -c [config file]\n",
    "    --port [server address] [options] \n",
    "\n",
    "Command line parameters:\n",
    "  --print_workflows                 Output available workflows.\n",
    "  --flowcell arg                    Flowcell to find a configuration for\n",
    "  --kit arg                         Kit to find a configuration for\n",
    "  --qscore_filtering                Enable filtering of reads into PASS/FAIL\n",
    "                                    folders based on min qscore.\n",
    "  --min_qscore arg                  Minimum acceptable qscore for a read to be\n",
    "                                    filtered into the PASS folder\n",
    "  -r [ --recursive ]                Search for input files recursively.\n",
    "  -q [ --records_per_fastq ] arg    Maximum number of records per fastq file, 0\n",
    "                                    means use a single file (per worker, per\n",
    "                                    run id).\n",
    "  -h [ --help ]                     produce help message\n",
    "  -v [ --version ]                  print version number\n",
    "  -c [ --config ] arg               Config file to use\n",
    "  -d [ --data_path ] arg            Path to use for loading any data files the \n",
    "                                    application requires.\n",
    "</pre>"
   ]
  },
  {
   "cell_type": "code",
   "execution_count": 1,
   "metadata": {},
   "outputs": [
    {
     "name": "stdout",
     "output_type": "stream",
     "text": [
      "ONT Guppy basecalling software version 3.1.5+781ed575\n",
      "config file:        /Users/piroonjenjaroenpun/Desktop/project/snakefiles/guppy/program/ont-guppy-cpu_3.1.5/data/dna_r9.4.1_450bps_hac.cfg\n",
      "model file:         /Users/piroonjenjaroenpun/Desktop/project/snakefiles/guppy/program/ont-guppy-cpu_3.1.5/data/template_r9.4.1_450bps_hac.jsn\n",
      "input path:         data/0.fast5\n",
      "save path:          result/1.basecalled\n",
      "chunk size:         1000\n",
      "chunks per runner:  1000\n",
      "minimum qscore:     8\n",
      "records per file:   0\n",
      "fastq compression:  ON\n",
      "num basecallers:    1\n",
      "cpu mode:           ON\n",
      "threads per caller: 7\n",
      "\n",
      "Found 1 fast5 files to process.\n",
      "Init time: 1531 ms\n",
      "\n",
      "0%   10   20   30   40   50   60   70   80   90   100%\n",
      "|----|----|----|----|----|----|----|----|----|----|\n",
      "***************************************************\n",
      "Caller time: 321538 ms, Samples called: 12682235, samples/s: 39442.4\n",
      "Finishing up any open output files.\n",
      "Basecalling completed successfully.\n",
      "Basecalling is done.\n",
      "------------------\n"
     ]
    },
    {
     "name": "stderr",
     "output_type": "stream",
     "text": [
      "\n",
      "real\t5m32.988s\n",
      "user\t36m39.953s\n",
      "sys\t0m10.707s\n"
     ]
    }
   ],
   "source": [
    "%%bash\n",
    "in_fast5Dir=data/0.fast5\n",
    "out_basecalledDir=result/1.basecalled\n",
    "time guppy_basecaller -i $in_fast5Dir -s $out_basecalledDir \\\n",
    "       --recursive --records_per_fastq 0 \\\n",
    "       --flowcell FLO-MIN106 --kit SQK-RAD004 \\\n",
    "       --qscore_filtering --min_qscore 8 \\\n",
    "       --num_callers 1 --cpu_threads_per_caller 7 \\\n",
    "       --compress_fastq\n",
    "\n",
    "echo \"Basecalling is done.\"\n",
    "echo \"------------------\""
   ]
  },
  {
   "cell_type": "markdown",
   "metadata": {},
   "source": [
    "---"
   ]
  },
  {
   "cell_type": "markdown",
   "metadata": {},
   "source": [
    "### 2.Adapter_trimming"
   ]
  },
  {
   "cell_type": "markdown",
   "metadata": {},
   "source": [
    "#### Porechop\n",
    "Adapters trimming"
   ]
  },
  {
   "cell_type": "markdown",
   "metadata": {},
   "source": [
    "Porechop is a tool for finding and removing adapters from Oxford Nanopore reads. Adapters on the ends of reads are trimmed off, and when a read has an adapter in its middle, it is treated as chimeric and chopped into separate reads. Porechop performs thorough alignments to effectively find adapters, even at low sequence identity.\n",
    "\n",
    "Porechop also supports demultiplexing of Nanopore reads that were barcoded with the Native Barcoding Kit, PCR Barcoding Kit or Rapid Barcoding Kit.\n",
    "\n",
    "<pre>\n",
    "Usage: porechop -i INPUT [-o OUTPUT] [-t THREADS] [-b BARCODE_DIR] [-v VERBOSITY] \n",
    "\n",
    "Main options:\n",
    "  -i INPUT, --input INPUT          \n",
    "                       FASTA/FASTQ of input reads or a directory which will be recursively searched for FASTQ files (required)\n",
    "  -o OUTPUT, --output OUTPUT       \n",
    "                       Filename for FASTA or FASTQ of trimmed reads (if not set, trimmed\n",
    "  -t THREADS, --threads THREADS    \n",
    "                       Number of threads to use for adapter alignment (default: 4)\n",
    "  -v VERBOSITY, --verbosity VERBOSITY\n",
    "                       Level of progress information: 0 = none, 1 = some, 2 = lots, 3 = full - output will go to stdout if reads are saved to a file and stderr if reads are printed to stdout (default: 1)\n",
    "                       \n",
    "Barcode binning settings:\n",
    "  Control the binning of reads based on barcodes (i.e. barcode demultiplexing)\n",
    "  -b BARCODE_DIR, --barcode_dir BARCODE_DIR\n",
    "                       Reads will be binned based on their barcode and saved to separate files in this directory (incompatible with --output)\n",
    "</pre>"
   ]
  },
  {
   "cell_type": "code",
   "execution_count": 2,
   "metadata": {},
   "outputs": [],
   "source": [
    "%%bash\n",
    "in_basecalledDir=result/1.basecalled\n",
    "out_filtOutDir=result/2.reads_filter\n",
    "mkdir -p $out_filtOutDir\n",
    "find $in_basecalledDir/ -name \"*.fastq.gz\" | grep pass \\\n",
    "  | xargs -I{} cat {} > $out_filtOutDir/reads.fastq.gz"
   ]
  },
  {
   "cell_type": "code",
   "execution_count": 3,
   "metadata": {},
   "outputs": [
    {
     "name": "stdout",
     "output_type": "stream",
     "text": [
      "Porechop is done.\n",
      "------------------\n"
     ]
    },
    {
     "name": "stderr",
     "output_type": "stream",
     "text": [
      "\n",
      "real\t0m1.432s\n",
      "user\t0m1.786s\n",
      "sys\t0m0.169s\n"
     ]
    }
   ],
   "source": [
    "%%bash\n",
    "in_fq=result/2.reads_filter/reads.fastq.gz\n",
    "out_fqPchop=result/2.reads_filter/reads.pchop.fastq.gz\n",
    "out_pchopLog=result/2.reads_filter/porechop.log\n",
    "time porechop -i $in_fq -o $out_fqPchop -t 3 -v 2 > $out_pchopLog\n",
    "echo \"Porechop is done.\"\n",
    "echo \"------------------\"\n"
   ]
  },
  {
   "cell_type": "markdown",
   "metadata": {},
   "source": [
    "### 3.reads_filter"
   ]
  },
  {
   "cell_type": "markdown",
   "metadata": {},
   "source": [
    "#### NanoFilt \n",
    "Filter out low quality reads or particular cut-off"
   ]
  },
  {
   "cell_type": "markdown",
   "metadata": {},
   "source": [
    "You can use NanoFilt to filter out read according to sequenceing quality or read length.Reads filter and/or trim pipeline\n",
    "\n",
    "<pre>\n",
    "usage: cat reads.fastq | NanoFilt [-l LENGTH] [-q QUALITY] [-s SUMMARY] > reads.filt.fastq\n",
    "\n",
    "Perform quality and/or length and/or GC filtering of (long read) fastq data.\n",
    "Options for filtering reads on.:\n",
    "  -l LENGTH, --length LENGTH\n",
    "                        Filter on a minimum read length\n",
    "  -q QUALITY, --quality QUALITY\n",
    "                        Filter on a minimum average read quality score\n",
    "Input options.:\n",
    "  -s SUMMARY, --summary SUMMARY\n",
    "                        Use summary file for quality scores\n",
    "</pre>"
   ]
  },
  {
   "cell_type": "code",
   "execution_count": 5,
   "metadata": {},
   "outputs": [
    {
     "name": "stderr",
     "output_type": "stream",
     "text": [
      "\n",
      "real\t0m0.697s\n",
      "user\t0m0.900s\n",
      "sys\t0m0.135s\n"
     ]
    }
   ],
   "source": [
    "%%bash\n",
    "in_fqPchop=result/2.reads_filter/reads.pchop.fastq.gz\n",
    "in_seqSummary=result/1.basecalled/sequencing_summary.txt\n",
    "out_fqPchopFilt=result/2.reads_filter/reads.pchop.filt.fastq.gz\n",
    "time gunzip -c $in_fqPchop | NanoFilt -l 1000 -q 10 -s $in_seqSummary \\\n",
    "  | gzip > $out_fqPchopFilt"
   ]
  },
  {
   "cell_type": "markdown",
   "metadata": {},
   "source": [
    "### 3.Blast\n",
    "To map long read against reference genome. \n",
    "\n",
    "#### Python script to get top 5 longest reads from fastq\n",
    "\n",
    "<pre>\n",
    "usage: topLenFasta.py [-h] [-i <fastq>] [-n int] [--split]\n",
    "\n",
    "get sequence length from fasta file\n",
    "\n",
    "optional arguments:\n",
    "  -h, --help            show this help message and exit\n",
    "  -i <fastq>, --infile <fastq>\n",
    "                        input file\n",
    "  -n int, --topNumber int\n",
    "                        Number of top reads\n",
    "  --split               split fasta in to single file\n",
    " </pre>"
   ]
  },
  {
   "cell_type": "code",
   "execution_count": 9,
   "metadata": {},
   "outputs": [
    {
     "name": "stdout",
     "output_type": "stream",
     "text": [
      "get top 5 reads \n",
      "Done\n"
     ]
    },
    {
     "name": "stderr",
     "output_type": "stream",
     "text": [
      "\n",
      "real\t0m0.561s\n",
      "user\t0m0.704s\n",
      "sys\t0m0.125s\n"
     ]
    }
   ],
   "source": [
    "%%bash\n",
    "mkdir -p result/3.blast\n",
    "in_fqPchopFilt=result/2.reads_filter/reads.pchop.filt.fastq.gz\n",
    "out_longReads=result/3.blast\n",
    "time python scripts/topLenFasta.py -n 5 -i $in_fqPchopFilt -o $out_longReads --split"
   ]
  },
  {
   "cell_type": "markdown",
   "metadata": {},
   "source": [
    "---"
   ]
  },
  {
   "cell_type": "markdown",
   "metadata": {},
   "source": [
    "### 4.Assembly\n",
    "\n",
    "### Read summary"
   ]
  },
  {
   "cell_type": "code",
   "execution_count": 10,
   "metadata": {},
   "outputs": [],
   "source": [
    "%%bash\n",
    "cp data/2.reads_filter/reads.pchop.filt.fastq.gz \\\n",
    "   result/2.reads_filter/reads.pchop.filt.fastq.gz"
   ]
  },
  {
   "cell_type": "code",
   "execution_count": 13,
   "metadata": {},
   "outputs": [
    {
     "name": "stdout",
     "output_type": "stream",
     "text": [
      "filename    total_length  number  mean_length  longest\n",
      "/dev/fd/63  60882258      1488    40915.50     160588\n"
     ]
    }
   ],
   "source": [
    "%%bash\n",
    "mkdir -p result/4.assembly\n",
    "in_fqPchopFilt=result/2.reads_filter/reads.pchop.filt.fastq.gz\n",
    "assembly-stats -t <(gunzip -c $in_fqPchopFilt) | cut -f1-5 | column -t"
   ]
  },
  {
   "cell_type": "markdown",
   "metadata": {},
   "source": [
    "### Assembly using Minimap/Miniasm/Racon\n",
    "usage: bash run_minimap_miniasm_racon.sh [threads] [fastq] [output]\n",
    "\n",
    "#### Step1: Overlap with Minimap\n",
    "\n",
    "#### Step2: Layout with Miniasm\n",
    "\n",
    "#### Step3: Consensus with Racon\n"
   ]
  },
  {
   "cell_type": "code",
   "execution_count": 18,
   "metadata": {
    "scrolled": true
   },
   "outputs": [
    {
     "name": "stdout",
     "output_type": "stream",
     "text": [
      "Run: run_minimap_miniasm_racon.sh\n",
      "Step1: Overlap...\n",
      "minimap2 -x ava-ont -t 4 result/2.reads_filter/reads.pchop.filt.fastq.gz result/2.reads_filter/reads.pchop.filt.fastq.gz | gzip -1 > result/4.assembly/miniasm/miniasm/reads.pchop.filt.fastq.gz.paf.gz\n",
      "  Done\n",
      "\n",
      "Step2: Layout...\n",
      "miniasm -f result/2.reads_filter/reads.pchop.filt.fastq.gz result/4.assembly/miniasm/miniasm/reads.pchop.filt.fastq.gz.paf.gz > result/4.assembly/miniasm/reads.pchop.filt.fastq.gz.gdraft1.gfa\n",
      "  Done\n",
      "\n",
      "Step3: Consensus...\n",
      "minimap2 -x map-ont -t 4 result/4.assembly/miniasm/reads.pchop.filt.fastq.gz.gdraft1.fasta result/2.reads_filter/reads.pchop.filt.fastq.gz | gzip -1 > result/4.assembly/miniasm/miniasm/aln.reads.pchop.filt.fastq.gz.vs.gdraft1.paf.gz\n",
      "racon -t 4 result/2.reads_filter/reads.pchop.filt.fastq.gz result/4.assembly/miniasm/miniasm/aln.reads.pchop.filt.fastq.gz.vs.gdraft1.paf.gz result/4.assembly/miniasm/reads.pchop.filt.fastq.gz.gdraft1.fasta > result/4.assembly/miniasm/miniasm/reads.pchop.filt.fastq.gz.racon.draft1.consensus.fasta\n",
      "  Done round1...\n",
      "\n",
      "minimap2 -x map-ont -t 4 result/4.assembly/miniasm/miniasm/reads.pchop.filt.fastq.gz.racon.draft1.consensus.fasta result/2.reads_filter/reads.pchop.filt.fastq.gz | gzip -1 > result/4.assembly/miniasm/miniasm/aln.reads.pchop.filt.fastq.gz.vs.gdraft2.paf.gz\n",
      "racon -t 4 result/2.reads_filter/reads.pchop.filt.fastq.gz result/4.assembly/miniasm/miniasm/aln.reads.pchop.filt.fastq.gz.vs.gdraft2.paf.gz result/4.assembly/miniasm/miniasm/reads.pchop.filt.fastq.gz.racon.draft1.consensus.fasta > result/4.assembly/miniasm/reads.pchop.filt.fastq.gz.assembly.consensus.fasta\n",
      "  Done round2...\n",
      "\n"
     ]
    },
    {
     "name": "stderr",
     "output_type": "stream",
     "text": [
      "[M::mm_idx_gen::2.075*1.14] collected minimizers\n",
      "[M::mm_idx_gen::2.390*1.51] sorted minimizers\n",
      "[M::main::2.390*1.51] loaded/built the index for 1488 target sequence(s)\n",
      "[M::mm_mapopt_update::2.535*1.48] mid_occ = 62\n",
      "[M::mm_idx_stat] kmer size: 15; skip: 5; is_hpc: 0; #seq: 1488\n",
      "[M::mm_idx_stat::2.628*1.46] distinct minimizers: 8011485 (75.63% are singletons); average occurrences: 2.591; average spacing: 2.933\n",
      "[M::worker_pipeline::10.357*3.11] mapped 1488 sequences\n",
      "[M::main] Version: 2.17-r941\n",
      "[M::main] CMD: minimap2 -x ava-ont -t 4 result/2.reads_filter/reads.pchop.filt.fastq.gz result/2.reads_filter/reads.pchop.filt.fastq.gz\n",
      "[M::main] Real time: 10.453 sec; CPU: 32.275 sec; Peak RSS: 0.770 GB\n",
      "[M::main] ===> Step 1: reading read mappings <===\n",
      "[M::ma_hit_read::0.075*1.02] read 60270 hits; stored 80266 hits and 1488 sequences (60882258 bp)\n",
      "[M::main] ===> Step 2: 1-pass (crude) read selection <===\n",
      "[M::ma_hit_sub::0.082*1.02] 1488 query sequences remain after sub\n",
      "[M::ma_hit_cut::0.083*1.02] 80074 hits remain after cut\n",
      "[M::ma_hit_flt::0.083*1.02] 60042 hits remain after filtering; crude coverage after filtering: 25.34\n",
      "[M::main] ===> Step 3: 2-pass (fine) read selection <===\n",
      "[M::ma_hit_sub::0.086*1.02] 1488 query sequences remain after sub\n",
      "[M::ma_hit_cut::0.086*1.02] 60036 hits remain after cut\n",
      "[M::ma_hit_contained::0.087*1.02] 202 sequences and 1664 hits remain after containment removal\n",
      "[M::main] ===> Step 4: graph cleaning <===\n",
      "[M::ma_sg_gen] read 1660 arcs\n",
      "[M::main] ===> Step 4.1: transitive reduction <===\n",
      "[M::asg_arc_del_trans] transitively reduced 1228 arcs\n",
      "[M::asg_arc_del_multi] removed 0 multi-arcs\n",
      "[M::asg_arc_del_asymm] removed 28 asymmetric arcs\n",
      "[M::main] ===> Step 4.2: initial tip cutting and bubble popping <===\n",
      "[M::asg_cut_tip] cut 0 tips\n",
      "[M::asg_pop_bubble] popped 0 bubbles and trimmed 0 tips\n",
      "[M::main] ===> Step 4.3: cutting short overlaps (3 rounds in total) <===\n",
      "[M::asg_arc_del_short] removed 0 short overlaps\n",
      "[M::asg_arc_del_short] removed 0 short overlaps\n",
      "[M::asg_arc_del_short] removed 0 short overlaps\n",
      "[M::main] ===> Step 4.4: removing short internal sequences and bi-loops <===\n",
      "[M::asg_cut_internal] cut 0 internal sequences\n",
      "[M::asg_cut_biloop] cut 0 small bi-loops\n",
      "[M::asg_cut_tip] cut 0 tips\n",
      "[M::asg_pop_bubble] popped 0 bubbles and trimmed 0 tips\n",
      "[M::main] ===> Step 4.5: aggressively cutting short overlaps <===\n",
      "[M::asg_arc_del_short] removed 0 short overlaps\n",
      "[M::main] ===> Step 5: generating unitigs <===\n",
      "[M::main] Version: 0.3-r179\n",
      "[M::main] CMD: miniasm -f result/2.reads_filter/reads.pchop.filt.fastq.gz result/4.assembly/miniasm/miniasm/reads.pchop.filt.fastq.gz.paf.gz\n",
      "[M::main] Real time: 0.730 sec; CPU: 0.729 sec\n",
      "[M::mm_idx_gen::0.067*1.02] collected minimizers\n",
      "[M::mm_idx_gen::0.077*1.40] sorted minimizers\n",
      "[M::main::0.077*1.40] loaded/built the index for 1 target sequence(s)\n",
      "[M::mm_mapopt_update::0.083*1.37] mid_occ = 6\n",
      "[M::mm_idx_stat] kmer size: 15; skip: 10; is_hpc: 0; #seq: 1\n",
      "[M::mm_idx_stat::0.088*1.35] distinct minimizers: 527069 (98.05% are singletons); average occurrences: 1.024; average spacing: 5.345\n",
      "[M::worker_pipeline::1.569*2.51] mapped 1488 sequences\n",
      "[M::main] Version: 2.17-r941\n",
      "[M::main] CMD: minimap2 -x map-ont -t 4 result/4.assembly/miniasm/reads.pchop.filt.fastq.gz.gdraft1.fasta result/2.reads_filter/reads.pchop.filt.fastq.gz\n",
      "[M::main] Real time: 1.586 sec; CPU: 3.956 sec; Peak RSS: 0.104 GB\n",
      "[racon::Polisher::initialize] loaded target sequences 0.023590 s\n",
      "[racon::Polisher::initialize] loaded sequences 1.067157 s\n",
      "[racon::Polisher::initialize] loaded overlaps 0.002958 s\n",
      "[racon::Polisher::initialize] aligning overlaps [=>                  ] 0.853912 s\r",
      "[racon::Polisher::initialize] aligning overlaps [==>                 ] 1.735216 s\r",
      "[racon::Polisher::initialize] aligning overlaps [===>                ] 2.695870 s\r",
      "[racon::Polisher::initialize] aligning overlaps [====>               ] 3.733772 s\r",
      "[racon::Polisher::initialize] aligning overlaps [=====>              ] 4.509293 s\r",
      "[racon::Polisher::initialize] aligning overlaps [======>             ] 5.567298 s\r",
      "[racon::Polisher::initialize] aligning overlaps [=======>            ] 6.551899 s\r",
      "[racon::Polisher::initialize] aligning overlaps [========>           ] 7.501273 s\r",
      "[racon::Polisher::initialize] aligning overlaps [=========>          ] 8.373295 s\r",
      "[racon::Polisher::initialize] aligning overlaps [==========>         ] 9.215448 s\r",
      "[racon::Polisher::initialize] aligning overlaps [===========>        ] 10.269117 s\r",
      "[racon::Polisher::initialize] aligning overlaps [============>       ] 11.215452 s\r",
      "[racon::Polisher::initialize] aligning overlaps [=============>      ] 12.232453 s\r",
      "[racon::Polisher::initialize] aligning overlaps [==============>     ] 13.154584 s\r",
      "[racon::Polisher::initialize] aligning overlaps [===============>    ] 13.985261 s\r",
      "[racon::Polisher::initialize] aligning overlaps [================>   ] 14.926964 s\r",
      "[racon::Polisher::initialize] aligning overlaps [=================>  ] 16.049431 s\r",
      "[racon::Polisher::initialize] aligning overlaps [==================> ] 17.295379 s\r",
      "[racon::Polisher::initialize] aligning overlaps [===================>] 18.187963 s\r",
      "[racon::Polisher::initialize] aligning overlaps [====================] 19.246837 s\n",
      "[racon::Polisher::initialize] transformed data into windows 0.085361 s\n",
      "[racon::Polisher::polish] generating consensus [=>                  ] 1.077866 s\r",
      "[racon::Polisher::polish] generating consensus [==>                 ] 1.830450 s\r",
      "[racon::Polisher::polish] generating consensus [===>                ] 2.600731 s\r",
      "[racon::Polisher::polish] generating consensus [====>               ] 3.545949 s\r",
      "[racon::Polisher::polish] generating consensus [=====>              ] 4.486163 s\r",
      "[racon::Polisher::polish] generating consensus [======>             ] 5.219622 s\r",
      "[racon::Polisher::polish] generating consensus [=======>            ] 6.220232 s\r",
      "[racon::Polisher::polish] generating consensus [========>           ] 7.205194 s\r",
      "[racon::Polisher::polish] generating consensus [=========>          ] 8.113120 s\r",
      "[racon::Polisher::polish] generating consensus [==========>         ] 9.012621 s\r",
      "[racon::Polisher::polish] generating consensus [===========>        ] 10.074892 s\r",
      "[racon::Polisher::polish] generating consensus [============>       ] 10.989429 s\r",
      "[racon::Polisher::polish] generating consensus [=============>      ] 11.898137 s\r",
      "[racon::Polisher::polish] generating consensus [==============>     ] 12.701327 s\r",
      "[racon::Polisher::polish] generating consensus [===============>    ] 13.662546 s\r",
      "[racon::Polisher::polish] generating consensus [================>   ] 14.338472 s\r",
      "[racon::Polisher::polish] generating consensus [=================>  ] 15.112059 s\r",
      "[racon::Polisher::polish] generating consensus [==================> ] 15.811292 s\r",
      "[racon::Polisher::polish] generating consensus [===================>] 16.593260 s\r",
      "[racon::Polisher::polish] generating consensus [====================] 17.468665 s\n",
      "[racon::Polisher::] total = 37.913166 s\n",
      "[M::mm_idx_gen::0.083*1.01] collected minimizers\n",
      "[M::mm_idx_gen::0.095*1.37] sorted minimizers\n",
      "[M::main::0.095*1.37] loaded/built the index for 1 target sequence(s)\n",
      "[M::mm_mapopt_update::0.101*1.35] mid_occ = 9\n",
      "[M::mm_idx_stat] kmer size: 15; skip: 10; is_hpc: 0; #seq: 1\n",
      "[M::mm_idx_stat::0.107*1.33] distinct minimizers: 516384 (97.38% are singletons); average occurrences: 1.039; average spacing: 5.348\n",
      "[M::worker_pipeline::1.847*2.59] mapped 1488 sequences\n",
      "[M::main] Version: 2.17-r941\n",
      "[M::main] CMD: minimap2 -x map-ont -t 4 result/4.assembly/miniasm/miniasm/reads.pchop.filt.fastq.gz.racon.draft1.consensus.fasta result/2.reads_filter/reads.pchop.filt.fastq.gz\n",
      "[M::main] Real time: 1.857 sec; CPU: 4.797 sec; Peak RSS: 0.103 GB\n",
      "[racon::Polisher::initialize] loaded target sequences 0.018024 s\n",
      "[racon::Polisher::initialize] loaded sequences 1.103631 s\n",
      "[racon::Polisher::initialize] loaded overlaps 0.003114 s\n",
      "[racon::Polisher::initialize] aligning overlaps [=>                  ] 0.674758 s\r",
      "[racon::Polisher::initialize] aligning overlaps [==>                 ] 1.280666 s\r",
      "[racon::Polisher::initialize] aligning overlaps [===>                ] 1.878904 s\r",
      "[racon::Polisher::initialize] aligning overlaps [====>               ] 2.526698 s\r",
      "[racon::Polisher::initialize] aligning overlaps [=====>              ] 3.048330 s\r",
      "[racon::Polisher::initialize] aligning overlaps [======>             ] 3.717725 s\r",
      "[racon::Polisher::initialize] aligning overlaps [=======>            ] 4.452804 s\r",
      "[racon::Polisher::initialize] aligning overlaps [========>           ] 5.072277 s\r",
      "[racon::Polisher::initialize] aligning overlaps [=========>          ] 5.752941 s\r",
      "[racon::Polisher::initialize] aligning overlaps [==========>         ] 6.366600 s\r",
      "[racon::Polisher::initialize] aligning overlaps [===========>        ] 7.103439 s\r",
      "[racon::Polisher::initialize] aligning overlaps [============>       ] 7.770518 s\r",
      "[racon::Polisher::initialize] aligning overlaps [=============>      ] 8.517754 s\r",
      "[racon::Polisher::initialize] aligning overlaps [==============>     ] 9.147644 s\r",
      "[racon::Polisher::initialize] aligning overlaps [===============>    ] 9.687103 s\r",
      "[racon::Polisher::initialize] aligning overlaps [================>   ] 10.313863 s\r",
      "[racon::Polisher::initialize] aligning overlaps [=================>  ] 11.173017 s\r",
      "[racon::Polisher::initialize] aligning overlaps [==================> ] 12.056163 s\r",
      "[racon::Polisher::initialize] aligning overlaps [===================>] 12.673647 s\r",
      "[racon::Polisher::initialize] aligning overlaps [====================] 13.369388 s\n",
      "[racon::Polisher::initialize] transformed data into windows 0.079448 s\n",
      "[racon::Polisher::polish] generating consensus [=>                  ] 1.113774 s\r",
      "[racon::Polisher::polish] generating consensus [==>                 ] 1.950592 s\r",
      "[racon::Polisher::polish] generating consensus [===>                ] 2.837100 s\r",
      "[racon::Polisher::polish] generating consensus [====>               ] 3.796547 s\r",
      "[racon::Polisher::polish] generating consensus [=====>              ] 4.944603 s\r",
      "[racon::Polisher::polish] generating consensus [======>             ] 5.770023 s\r",
      "[racon::Polisher::polish] generating consensus [=======>            ] 6.936128 s\r",
      "[racon::Polisher::polish] generating consensus [========>           ] 8.096313 s\r",
      "[racon::Polisher::polish] generating consensus [=========>          ] 9.034599 s\r",
      "[racon::Polisher::polish] generating consensus [==========>         ] 9.871937 s\r",
      "[racon::Polisher::polish] generating consensus [===========>        ] 10.785364 s\r",
      "[racon::Polisher::polish] generating consensus [============>       ] 11.592050 s\r",
      "[racon::Polisher::polish] generating consensus [=============>      ] 12.403977 s\r",
      "[racon::Polisher::polish] generating consensus [==============>     ] 13.203816 s\r",
      "[racon::Polisher::polish] generating consensus [===============>    ] 14.094619 s\r",
      "[racon::Polisher::polish] generating consensus [================>   ] 14.693300 s\r",
      "[racon::Polisher::polish] generating consensus [=================>  ] 15.539064 s\r",
      "[racon::Polisher::polish] generating consensus [==================> ] 16.158648 s\r",
      "[racon::Polisher::polish] generating consensus [===================>] 16.885985 s\r",
      "[racon::Polisher::polish] generating consensus [====================] 17.783699 s\n",
      "[racon::Polisher::] total = 32.375792 s\n"
     ]
    }
   ],
   "source": [
    "%%bash\n",
    "in_fqPchopFilt=result/2.reads_filter/reads.pchop.filt.fastq.gz\n",
    "out_assembly=result/4.assembly/miniasm\n",
    "echo \"Run: run_minimap_miniasm_racon.sh\"\n",
    "# time bash scripts/run_minimap_miniasm_racon.sh 3 $input5 $output5\n",
    "fastqFile=$in_fqPchopFilt\n",
    "out=$out_assembly\n",
    "thread=4\n",
    "bname_fa=$(basename $fastqFile .fastq)\n",
    "mkdir -p $out/miniasm\n",
    "pafFile=$out/miniasm/$bname_fa.paf.gz\n",
    "\n",
    "###################\n",
    "echo \"Step1: Overlap...\"\n",
    "###################\n",
    "## fast all-against-all overlap of raw reads\n",
    "echo minimap2 -x ava-ont -t $thread $fastqFile $fastqFile \"|\" gzip -1 \">\" $pafFile\n",
    "minimap2 -x ava-ont -t $thread $fastqFile $fastqFile | gzip -1 > $pafFile\n",
    "echo -e \"  Done\\n\"\n",
    "#--------------------------------------------------------------------------\n",
    "\n",
    "###################\n",
    "echo \"Step2: Layout...\"\n",
    "###################\n",
    "## using miniasm, this simply concatenates pieces of read sequences \n",
    "## to generate the final\n",
    "gDraft1=$out/$bname_fa.gdraft1.gfa\n",
    "gDraft1_fa=$out/$bname_fa.gdraft1.fasta\n",
    "\n",
    "echo miniasm -f $fastqFile $pafFile \">\" $gDraft1\n",
    "miniasm -f $fastqFile $pafFile > $gDraft1\n",
    "echo -e \"  Done\\n\"\n",
    "\n",
    "## convert miniasm draft1 result to fasta\n",
    "awk '$1 ~/S/ {print \">\"$2\"\\n\"$3}' $gDraft1 > $gDraft1_fa\n",
    "#--------------------------------------------------------------------------\n",
    "\n",
    "###################\n",
    "echo \"Step3: Consensus...\"\n",
    "###################\n",
    "\n",
    "############\n",
    "## Round 1\n",
    "############\n",
    "## align reads to the 1st draft of genome\n",
    "## mapping the raw reads back to the assembly using minimap again\n",
    "aln2gDraft1=$out/miniasm/aln.$bname_fa.vs.gdraft1.paf.gz\n",
    "echo minimap2 -x map-ont -t $thread $gDraft1_fa $fastqFile \"|\" gzip -1 \">\" $aln2gDraft1\n",
    "minimap2 -x map-ont -t $thread $gDraft1_fa $fastqFile | gzip -1 > $aln2gDraft1\n",
    "\n",
    "## using racon ('rapid consensus') for consensus calling\n",
    "raconsensus1=$out/miniasm/$bname_fa.racon.draft1.consensus.fasta\n",
    "echo racon -t $thread $fastqFile $aln2gDraft1 $gDraft1_fa \">\" $raconsensus1\n",
    "racon -t $thread $fastqFile $aln2gDraft1 $gDraft1_fa > $raconsensus1\n",
    "echo -e \"  Done round1...\\n\"\n",
    "\n",
    "############\n",
    "## Round 2\n",
    "############\n",
    "## perform the racon step at least twice\n",
    "## re-align reads to consensus assembly data\n",
    "aln2gDraft2=$out/miniasm/aln.$bname_fa.vs.gdraft2.paf.gz\n",
    "echo minimap2 -x map-ont -t $thread $raconsensus1 $fastqFile \"|\" gzip -1 \">\" $aln2gDraft2\n",
    "minimap2 -x map-ont -t $thread $raconsensus1 $fastqFile | gzip -1 > $aln2gDraft2\n",
    "\n",
    "## using racon ('rapid consensus') for consensus calling\n",
    "raconsensus2=$out/$bname_fa.assembly.consensus.fasta\n",
    "echo racon -t $thread $fastqFile $aln2gDraft2 $raconsensus1 \">\" $raconsensus2\n",
    "racon -t $thread $fastqFile $aln2gDraft2 $raconsensus1 > $raconsensus2\n",
    "echo -e \"  Done round2...\\n\"\n",
    "rm -r $out/miniasm"
   ]
  },
  {
   "cell_type": "markdown",
   "metadata": {},
   "source": [
    "#### get example of non-polished sequence "
   ]
  },
  {
   "cell_type": "code",
   "execution_count": null,
   "metadata": {
    "scrolled": false
   },
   "outputs": [],
   "source": [
    "%%bash\n",
    "in_assemDraft1=result/4.assembly/miniasm/reads.pchop.filt.fastq.gz.gdraft1.fasta\n",
    "out_nonPolishAssem=result/4.assembly/miniasm/non-polished.chr.fasta\n",
    "samtools faidx $in_assemDraft1 utg000001c:1-20000 \\\n",
    " | bioawk -c fastx '{print \">\"$name\":non-polished\\n\"$seq}' > $out_nonPolishAssem"
   ]
  },
  {
   "cell_type": "markdown",
   "metadata": {},
   "source": [
    "#### get example of polished sequence\n"
   ]
  },
  {
   "cell_type": "code",
   "execution_count": null,
   "metadata": {
    "scrolled": true
   },
   "outputs": [],
   "source": [
    "%%bash\n",
    "in_assem=result/4.assembly/miniasm/reads.pchop.filt.fastq.gz.assembly.consensus.fasta\n",
    "out_polishAssem=result/4.assembly/miniasm/polished.chr.fasta\n",
    "samtools faidx $in_assem utg000001c:1-20000 \\\n",
    " | bioawk -c fastx '{print \">\"$name\":polished\\n\"$seq}' > $out_polishAssem"
   ]
  },
  {
   "cell_type": "markdown",
   "metadata": {},
   "source": [
    "### Assembly using Unicycler\n",
    "https://github.com/rrwick/Unicycler\n",
    "\n",
    "usage: unicycler -t [threads] -l [fastq] -o [output]"
   ]
  },
  {
   "cell_type": "code",
   "execution_count": 16,
   "metadata": {
    "scrolled": true
   },
   "outputs": [
    {
     "name": "stdout",
     "output_type": "stream",
     "text": [
      "\n",
      "\u001b[93m\u001b[1m\u001b[4mStarting Unicycler\u001b[0m (2019-08-26 00:40:12)\n",
      "    Welcome to Unicycler, an assembly pipeline for bacterial genomes. Since you\n",
      "provided only long reads, Unicycler will assemble the reads with miniasm and\n",
      "then run repeated polishing rounds using Racon.\n",
      "    For more information, please see https://github.com/rrwick/Unicycler\n",
      "\n",
      "Command: \u001b[1m/Users/piroonjenjaroenpun/anaconda3/envs/ont_assembly/bin/unicycler -t 4 -l result/2.reads_filter/reads.pchop.filt.fastq.gz -o result/4.assembly/unicycler\u001b[0m\n",
      "\n",
      "Unicycler version: v0.4.8\n",
      "Using 4 threads\n",
      "\n",
      "Making output directory:\n",
      "  /Users/piroonjenjaroenpun/Desktop/project/workshop/19_ONT_at_KMUTT/ont_workshop/result/4.assembly/unicycler\n",
      "\n",
      "Dependencies:\n",
      "  \u001b[4mProgram         Version   Status  \u001b[0m\n",
      "  spades.py                 not used\u001b[0m\n",
      "  racon           1.4.3     \u001b[32mgood\u001b[0m    \n",
      "  makeblastdb     2.6.0+    \u001b[32mgood\u001b[0m    \n",
      "  tblastn         2.6.0+    \u001b[32mgood\u001b[0m    \n",
      "  bowtie2-build             not used\u001b[0m\n",
      "  bowtie2                   not used\u001b[0m\n",
      "  samtools                  not used\u001b[0m\n",
      "  java                      not used\u001b[0m\n",
      "  pilon                     not used\u001b[0m\n",
      "  bcftools                  not used\u001b[0m\n",
      "\n",
      "\n",
      "\u001b[93m\u001b[1m\u001b[4mLoading reads\u001b[0m (2019-08-26 00:40:12)\n",
      "\r",
      "0 / 1,488 (0.0%)\r",
      "15 / 1,488 (1.0%) - 573,393 bp\r",
      "30 / 1,488 (2.0%) - 1,123,831 bp\r",
      "45 / 1,488 (3.0%) - 1,666,797 bp\r",
      "60 / 1,488 (4.0%) - 2,326,828 bp\r",
      "75 / 1,488 (5.0%) - 2,940,897 bp\r",
      "90 / 1,488 (6.0%) - 3,518,111 bp\r",
      "105 / 1,488 (7.1%) - 4,153,935 bp\r",
      "120 / 1,488 (8.1%) - 4,727,344 bp\r",
      "134 / 1,488 (9.0%) - 5,311,717 bp\r",
      "149 / 1,488 (10.0%) - 5,865,922 bp\r",
      "164 / 1,488 (11.0%) - 6,433,808 bp\r",
      "179 / 1,488 (12.0%) - 6,995,393 bp\r",
      "194 / 1,488 (13.0%) - 7,638,242 bp\r",
      "209 / 1,488 (14.0%) - 8,233,551 bp\r",
      "224 / 1,488 (15.1%) - 8,854,634 bp\r",
      "239 / 1,488 (16.1%) - 9,453,120 bp\r",
      "253 / 1,488 (17.0%) - 10,122,847 bp\r",
      "268 / 1,488 (18.0%) - 10,773,402 bp\r",
      "283 / 1,488 (19.0%) - 11,369,679 bp\r",
      "298 / 1,488 (20.0%) - 11,896,903 bp\r",
      "313 / 1,488 (21.0%) - 12,462,626 bp\r",
      "328 / 1,488 (22.0%) - 12,992,981 bp\r",
      "343 / 1,488 (23.1%) - 13,494,292 bp\r",
      "358 / 1,488 (24.1%) - 14,048,951 bp\r",
      "372 / 1,488 (25.0%) - 14,591,969 bp\r",
      "387 / 1,488 (26.0%) - 15,208,370 bp\r",
      "402 / 1,488 (27.0%) - 15,799,270 bp\r",
      "417 / 1,488 (28.0%) - 16,348,010 bp\r",
      "432 / 1,488 (29.0%) - 17,200,950 bp\r",
      "447 / 1,488 (30.0%) - 17,804,626 bp\r",
      "462 / 1,488 (31.0%) - 18,432,483 bp\r",
      "477 / 1,488 (32.1%) - 19,005,165 bp\r",
      "492 / 1,488 (33.1%) - 19,616,385 bp\r",
      "506 / 1,488 (34.0%) - 20,233,533 bp\r",
      "521 / 1,488 (35.0%) - 20,847,966 bp\r",
      "536 / 1,488 (36.0%) - 21,508,787 bp\r",
      "551 / 1,488 (37.0%) - 22,069,846 bp\r",
      "566 / 1,488 (38.0%) - 22,718,865 bp\r",
      "581 / 1,488 (39.0%) - 23,300,070 bp\r",
      "596 / 1,488 (40.1%) - 23,898,411 bp\r",
      "611 / 1,488 (41.1%) - 24,477,659 bp\r",
      "625 / 1,488 (42.0%) - 24,927,712 bp\r",
      "640 / 1,488 (43.0%) - 25,509,822 bp\r",
      "655 / 1,488 (44.0%) - 26,249,784 bp\r",
      "670 / 1,488 (45.0%) - 26,893,135 bp\r",
      "685 / 1,488 (46.0%) - 27,551,268 bp\r",
      "700 / 1,488 (47.0%) - 28,223,388 bp\r",
      "715 / 1,488 (48.1%) - 28,856,170 bp\r",
      "730 / 1,488 (49.1%) - 29,376,283 bp\r",
      "744 / 1,488 (50.0%) - 29,975,488 bp\r",
      "759 / 1,488 (51.0%) - 30,713,234 bp\r",
      "774 / 1,488 (52.0%) - 31,239,896 bp\r",
      "789 / 1,488 (53.0%) - 31,901,577 bp\r",
      "804 / 1,488 (54.0%) - 32,618,379 bp\r",
      "819 / 1,488 (55.0%) - 33,185,693 bp\r",
      "834 / 1,488 (56.0%) - 33,806,805 bp\r",
      "849 / 1,488 (57.1%) - 34,429,823 bp\r",
      "864 / 1,488 (58.1%) - 35,118,275 bp\r",
      "878 / 1,488 (59.0%) - 35,703,180 bp\r",
      "893 / 1,488 (60.0%) - 36,326,134 bp\r",
      "908 / 1,488 (61.0%) - 36,890,345 bp\r",
      "923 / 1,488 (62.0%) - 37,485,578 bp\r",
      "938 / 1,488 (63.0%) - 38,187,488 bp\r",
      "953 / 1,488 (64.0%) - 38,842,347 bp\r",
      "968 / 1,488 (65.1%) - 39,524,982 bp\r",
      "983 / 1,488 (66.1%) - 40,064,473 bp\r",
      "997 / 1,488 (67.0%) - 40,684,443 bp\r",
      "1,012 / 1,488 (68.0%) - 41,351,455 bp\r",
      "1,027 / 1,488 (69.0%) - 42,051,370 bp\r",
      "1,042 / 1,488 (70.0%) - 42,673,211 bp\r",
      "1,057 / 1,488 (71.0%) - 43,241,266 bp\r",
      "1,072 / 1,488 (72.0%) - 43,821,539 bp\r",
      "1,087 / 1,488 (73.1%) - 44,463,533 bp\r",
      "1,102 / 1,488 (74.1%) - 44,987,037 bp\r",
      "1,116 / 1,488 (75.0%) - 45,597,407 bp\r",
      "1,131 / 1,488 (76.0%) - 46,161,283 bp\r",
      "1,146 / 1,488 (77.0%) - 46,719,762 bp\r",
      "1,161 / 1,488 (78.0%) - 47,285,399 bp\r",
      "1,176 / 1,488 (79.0%) - 47,858,792 bp\r",
      "1,191 / 1,488 (80.0%) - 48,493,481 bp\r",
      "1,206 / 1,488 (81.0%) - 49,274,130 bp\r",
      "1,221 / 1,488 (82.1%) - 49,902,361 bp\r",
      "1,236 / 1,488 (83.1%) - 50,504,422 bp\r",
      "1,250 / 1,488 (84.0%) - 51,098,765 bp\r",
      "1,265 / 1,488 (85.0%) - 51,677,006 bp\r",
      "1,280 / 1,488 (86.0%) - 52,327,210 bp\r",
      "1,295 / 1,488 (87.0%) - 52,914,641 bp\r",
      "1,310 / 1,488 (88.0%) - 53,601,590 bp\r",
      "1,325 / 1,488 (89.0%) - 54,272,781 bp\r",
      "1,340 / 1,488 (90.1%) - 54,887,641 bp\r",
      "1,355 / 1,488 (91.1%) - 55,437,621 bp\r",
      "1,369 / 1,488 (92.0%) - 56,117,849 bp\r",
      "1,384 / 1,488 (93.0%) - 56,680,550 bp\r",
      "1,399 / 1,488 (94.0%) - 57,255,408 bp\r",
      "1,414 / 1,488 (95.0%) - 57,894,072 bp\r",
      "1,429 / 1,488 (96.0%) - 58,534,535 bp\r",
      "1,444 / 1,488 (97.0%) - 59,075,395 bp\r",
      "1,459 / 1,488 (98.1%) - 59,670,263 bp\r",
      "1,474 / 1,488 (99.1%) - 60,327,400 bp\r",
      "1,488 / 1,488 (100.0%) - 60,882,258 bp\r",
      "1,488 / 1,488 (100.0%) - 60,882,258 bp\n",
      "\n",
      "\n",
      "\u001b[93m\u001b[1m\u001b[4mAssembling contigs and long reads with miniasm\u001b[0m (2019-08-26 00:40:14)\n",
      "Saving to /Users/piroonjenjaroenpun/Desktop/project/workshop/19_ONT_at_KMUTT/ont_workshop/result/4.assembly/unicycler/miniasm_assembly/01_assembly_reads.fastq:\n",
      "  1,488 long reads\n",
      "\n",
      "Finding overlaps with minimap... \u001b[32msuccess\u001b[0m\n",
      "  49,235 overlaps\n",
      "\n",
      "Assembling reads with miniasm... \u001b[32msuccess\u001b[0m\n",
      "  201 segments, 201 links\n",
      "\n",
      "Saving /Users/piroonjenjaroenpun/Desktop/project/workshop/19_ONT_at_KMUTT/ont_workshop/result/4.assembly/unicycler/miniasm_assembly/11_branching_paths_removed.gfa\n",
      "Merging segments into unitigs:\n",
      "  1 circular unitig\n",
      "  total size = 2,883,951 bp\n",
      "Saving /Users/piroonjenjaroenpun/Desktop/project/workshop/19_ONT_at_KMUTT/ont_workshop/result/4.assembly/unicycler/miniasm_assembly/12_unitig_graph.gfa\n",
      "Saving /Users/piroonjenjaroenpun/Desktop/project/workshop/19_ONT_at_KMUTT/ont_workshop/result/4.assembly/unicycler/002_unitig_graph.gfa\n",
      "\n",
      "\n",
      "\u001b[93m\u001b[1m\u001b[4mPolishing miniasm assembly with Racon\u001b[0m (2019-08-26 00:40:22)\n",
      "    Unicycler now uses Racon to polish the miniasm assembly. It does multiple\n",
      "rounds of polishing to get the best consensus. Circular unitigs are rotated\n",
      "between rounds such that all parts (including the ends) are polished well.\n",
      "\n",
      "Saving to /Users/piroonjenjaroenpun/Desktop/project/workshop/19_ONT_at_KMUTT/ont_workshop/result/4.assembly/unicycler/miniasm_assembly/racon_polish/polishing_reads.fastq:\n",
      "  1,488 long reads\n",
      "\n",
      "Polish       Assembly          Mapping\u001b[0m\n",
      "\u001b[4mround            size          quality\u001b[0m\n",
      "begin       2,883,951           947.20\n",
      "1           2,871,547         1,216.44\n",
      "2           2,871,381         1,212.40\n",
      "3           2,871,473         1,208.26\n",
      "\n",
      "Best polish: /Users/piroonjenjaroenpun/Desktop/project/workshop/19_ONT_at_KMUTT/ont_workshop/result/4.assembly/unicycler/miniasm_assembly/racon_polish/006_rotated.fasta\n",
      "Saving /Users/piroonjenjaroenpun/Desktop/project/workshop/19_ONT_at_KMUTT/ont_workshop/result/4.assembly/unicycler/miniasm_assembly/13_racon_polished.gfa\n",
      "Saving /Users/piroonjenjaroenpun/Desktop/project/workshop/19_ONT_at_KMUTT/ont_workshop/result/4.assembly/unicycler/003_racon_polished.gfa\n",
      "\n",
      "\n",
      "\u001b[93m\u001b[1m\u001b[4mRotating completed replicons\u001b[0m (2019-08-26 00:42:57)\n",
      "    Any completed circular contigs (i.e. single contigs which have one link\n",
      "connecting end to start) can have their start position changed without altering\n",
      "the sequence. For consistency, Unicycler now searches for a starting gene (dnaA\n",
      "or repA) in each such contig, and if one is found, the contig is rotated to\n",
      "start with that gene on the forward strand.\n",
      "\n",
      "\u001b[4mSegment   Length      Depth   Starting gene         Position    Strand    Identity   Coverage\u001b[0m\n",
      "      1   2,871,547   1.00x   UniRef90_A0A0D1K5S3   2,424,919   reverse      99.0%     100.0%\n",
      "\n",
      "Saving /Users/piroonjenjaroenpun/Desktop/project/workshop/19_ONT_at_KMUTT/ont_workshop/result/4.assembly/unicycler/004_rotated.gfa\n",
      "\n",
      "\n",
      "\u001b[93m\u001b[1m\u001b[4mAssembly complete\u001b[0m (2019-08-26 00:43:36)\n",
      "Saving /Users/piroonjenjaroenpun/Desktop/project/workshop/19_ONT_at_KMUTT/ont_workshop/result/4.assembly/unicycler/assembly.gfa\n",
      "\n"
     ]
    },
    {
     "name": "stderr",
     "output_type": "stream",
     "text": [
      "\n",
      "real\t3m24.774s\n",
      "user\t10m14.928s\n",
      "sys\t0m13.125s\n"
     ]
    }
   ],
   "source": [
    "%%bash\n",
    "in_fqPchopFilt=result/2.reads_filter/reads.pchop.filt.fastq.gz\n",
    "out_unicycler=result/4.assembly/unicycler\n",
    "time unicycler -t 4 -l $in_fqPchopFilt -o $out_unicycler"
   ]
  },
  {
   "cell_type": "markdown",
   "metadata": {},
   "source": [
    "### To view Graphical Fragment Assembly (GFA) Format"
   ]
  },
  {
   "cell_type": "code",
   "execution_count": null,
   "metadata": {},
   "outputs": [],
   "source": [
    "%%bash\n",
    "source /opt/anaconda3/bin/activate bandage\n",
    "in_assemGFA=result/4.assembly/unicycler/assembly.gfa\n",
    "out_assemDraw=result/4.assembly/unicycler/assembly_unicycler_draw.png\n",
    "Bandage image $in_assemGFA $out_assemDraw"
   ]
  },
  {
   "cell_type": "code",
   "execution_count": 1,
   "metadata": {
    "scrolled": true
   },
   "outputs": [
    {
     "ename": "FileNotFoundError",
     "evalue": "No such file or directory: 'result/4.assembly/unicycler/assembly_draw.png'",
     "output_type": "error",
     "traceback": [
      "\u001b[0;31m---------------------------------------------------------------------------\u001b[0m",
      "\u001b[0;31mTypeError\u001b[0m                                 Traceback (most recent call last)",
      "\u001b[0;32m~/anaconda3/envs/ont_qc/lib/python3.7/site-packages/IPython/core/display.py\u001b[0m in \u001b[0;36m_data_and_metadata\u001b[0;34m(self, always_both)\u001b[0m\n\u001b[1;32m   1264\u001b[0m         \u001b[0;32mtry\u001b[0m\u001b[0;34m:\u001b[0m\u001b[0;34m\u001b[0m\u001b[0;34m\u001b[0m\u001b[0m\n\u001b[0;32m-> 1265\u001b[0;31m             \u001b[0mb64_data\u001b[0m \u001b[0;34m=\u001b[0m \u001b[0mb2a_base64\u001b[0m\u001b[0;34m(\u001b[0m\u001b[0mself\u001b[0m\u001b[0;34m.\u001b[0m\u001b[0mdata\u001b[0m\u001b[0;34m)\u001b[0m\u001b[0;34m.\u001b[0m\u001b[0mdecode\u001b[0m\u001b[0;34m(\u001b[0m\u001b[0;34m'ascii'\u001b[0m\u001b[0;34m)\u001b[0m\u001b[0;34m\u001b[0m\u001b[0;34m\u001b[0m\u001b[0m\n\u001b[0m\u001b[1;32m   1266\u001b[0m         \u001b[0;32mexcept\u001b[0m \u001b[0mTypeError\u001b[0m\u001b[0;34m:\u001b[0m\u001b[0;34m\u001b[0m\u001b[0;34m\u001b[0m\u001b[0m\n",
      "\u001b[0;31mTypeError\u001b[0m: a bytes-like object is required, not 'str'",
      "\nDuring handling of the above exception, another exception occurred:\n",
      "\u001b[0;31mFileNotFoundError\u001b[0m                         Traceback (most recent call last)",
      "\u001b[0;32m~/anaconda3/envs/ont_qc/lib/python3.7/site-packages/IPython/core/formatters.py\u001b[0m in \u001b[0;36m__call__\u001b[0;34m(self, obj, include, exclude)\u001b[0m\n\u001b[1;32m    968\u001b[0m \u001b[0;34m\u001b[0m\u001b[0m\n\u001b[1;32m    969\u001b[0m             \u001b[0;32mif\u001b[0m \u001b[0mmethod\u001b[0m \u001b[0;32mis\u001b[0m \u001b[0;32mnot\u001b[0m \u001b[0;32mNone\u001b[0m\u001b[0;34m:\u001b[0m\u001b[0;34m\u001b[0m\u001b[0;34m\u001b[0m\u001b[0m\n\u001b[0;32m--> 970\u001b[0;31m                 \u001b[0;32mreturn\u001b[0m \u001b[0mmethod\u001b[0m\u001b[0;34m(\u001b[0m\u001b[0minclude\u001b[0m\u001b[0;34m=\u001b[0m\u001b[0minclude\u001b[0m\u001b[0;34m,\u001b[0m \u001b[0mexclude\u001b[0m\u001b[0;34m=\u001b[0m\u001b[0mexclude\u001b[0m\u001b[0;34m)\u001b[0m\u001b[0;34m\u001b[0m\u001b[0;34m\u001b[0m\u001b[0m\n\u001b[0m\u001b[1;32m    971\u001b[0m             \u001b[0;32mreturn\u001b[0m \u001b[0;32mNone\u001b[0m\u001b[0;34m\u001b[0m\u001b[0;34m\u001b[0m\u001b[0m\n\u001b[1;32m    972\u001b[0m         \u001b[0;32melse\u001b[0m\u001b[0;34m:\u001b[0m\u001b[0;34m\u001b[0m\u001b[0;34m\u001b[0m\u001b[0m\n",
      "\u001b[0;32m~/anaconda3/envs/ont_qc/lib/python3.7/site-packages/IPython/core/display.py\u001b[0m in \u001b[0;36m_repr_mimebundle_\u001b[0;34m(self, include, exclude)\u001b[0m\n\u001b[1;32m   1253\u001b[0m         \u001b[0;32mif\u001b[0m \u001b[0mself\u001b[0m\u001b[0;34m.\u001b[0m\u001b[0membed\u001b[0m\u001b[0;34m:\u001b[0m\u001b[0;34m\u001b[0m\u001b[0;34m\u001b[0m\u001b[0m\n\u001b[1;32m   1254\u001b[0m             \u001b[0mmimetype\u001b[0m \u001b[0;34m=\u001b[0m \u001b[0mself\u001b[0m\u001b[0;34m.\u001b[0m\u001b[0m_mimetype\u001b[0m\u001b[0;34m\u001b[0m\u001b[0;34m\u001b[0m\u001b[0m\n\u001b[0;32m-> 1255\u001b[0;31m             \u001b[0mdata\u001b[0m\u001b[0;34m,\u001b[0m \u001b[0mmetadata\u001b[0m \u001b[0;34m=\u001b[0m \u001b[0mself\u001b[0m\u001b[0;34m.\u001b[0m\u001b[0m_data_and_metadata\u001b[0m\u001b[0;34m(\u001b[0m\u001b[0malways_both\u001b[0m\u001b[0;34m=\u001b[0m\u001b[0;32mTrue\u001b[0m\u001b[0;34m)\u001b[0m\u001b[0;34m\u001b[0m\u001b[0;34m\u001b[0m\u001b[0m\n\u001b[0m\u001b[1;32m   1256\u001b[0m             \u001b[0;32mif\u001b[0m \u001b[0mmetadata\u001b[0m\u001b[0;34m:\u001b[0m\u001b[0;34m\u001b[0m\u001b[0;34m\u001b[0m\u001b[0m\n\u001b[1;32m   1257\u001b[0m                 \u001b[0mmetadata\u001b[0m \u001b[0;34m=\u001b[0m \u001b[0;34m{\u001b[0m\u001b[0mmimetype\u001b[0m\u001b[0;34m:\u001b[0m \u001b[0mmetadata\u001b[0m\u001b[0;34m}\u001b[0m\u001b[0;34m\u001b[0m\u001b[0;34m\u001b[0m\u001b[0m\n",
      "\u001b[0;32m~/anaconda3/envs/ont_qc/lib/python3.7/site-packages/IPython/core/display.py\u001b[0m in \u001b[0;36m_data_and_metadata\u001b[0;34m(self, always_both)\u001b[0m\n\u001b[1;32m   1266\u001b[0m         \u001b[0;32mexcept\u001b[0m \u001b[0mTypeError\u001b[0m\u001b[0;34m:\u001b[0m\u001b[0;34m\u001b[0m\u001b[0;34m\u001b[0m\u001b[0m\n\u001b[1;32m   1267\u001b[0m             raise FileNotFoundError(\n\u001b[0;32m-> 1268\u001b[0;31m                 \"No such file or directory: '%s'\" % (self.data))\n\u001b[0m\u001b[1;32m   1269\u001b[0m         \u001b[0mmd\u001b[0m \u001b[0;34m=\u001b[0m \u001b[0;34m{\u001b[0m\u001b[0;34m}\u001b[0m\u001b[0;34m\u001b[0m\u001b[0;34m\u001b[0m\u001b[0m\n\u001b[1;32m   1270\u001b[0m         \u001b[0;32mif\u001b[0m \u001b[0mself\u001b[0m\u001b[0;34m.\u001b[0m\u001b[0mmetadata\u001b[0m\u001b[0;34m:\u001b[0m\u001b[0;34m\u001b[0m\u001b[0;34m\u001b[0m\u001b[0m\n",
      "\u001b[0;31mFileNotFoundError\u001b[0m: No such file or directory: 'result/4.assembly/unicycler/assembly_draw.png'"
     ]
    },
    {
     "ename": "FileNotFoundError",
     "evalue": "No such file or directory: 'result/4.assembly/unicycler/assembly_draw.png'",
     "output_type": "error",
     "traceback": [
      "\u001b[0;31m---------------------------------------------------------------------------\u001b[0m",
      "\u001b[0;31mTypeError\u001b[0m                                 Traceback (most recent call last)",
      "\u001b[0;32m~/anaconda3/envs/ont_qc/lib/python3.7/site-packages/IPython/core/display.py\u001b[0m in \u001b[0;36m_data_and_metadata\u001b[0;34m(self, always_both)\u001b[0m\n\u001b[1;32m   1264\u001b[0m         \u001b[0;32mtry\u001b[0m\u001b[0;34m:\u001b[0m\u001b[0;34m\u001b[0m\u001b[0;34m\u001b[0m\u001b[0m\n\u001b[0;32m-> 1265\u001b[0;31m             \u001b[0mb64_data\u001b[0m \u001b[0;34m=\u001b[0m \u001b[0mb2a_base64\u001b[0m\u001b[0;34m(\u001b[0m\u001b[0mself\u001b[0m\u001b[0;34m.\u001b[0m\u001b[0mdata\u001b[0m\u001b[0;34m)\u001b[0m\u001b[0;34m.\u001b[0m\u001b[0mdecode\u001b[0m\u001b[0;34m(\u001b[0m\u001b[0;34m'ascii'\u001b[0m\u001b[0;34m)\u001b[0m\u001b[0;34m\u001b[0m\u001b[0;34m\u001b[0m\u001b[0m\n\u001b[0m\u001b[1;32m   1266\u001b[0m         \u001b[0;32mexcept\u001b[0m \u001b[0mTypeError\u001b[0m\u001b[0;34m:\u001b[0m\u001b[0;34m\u001b[0m\u001b[0;34m\u001b[0m\u001b[0m\n",
      "\u001b[0;31mTypeError\u001b[0m: a bytes-like object is required, not 'str'",
      "\nDuring handling of the above exception, another exception occurred:\n",
      "\u001b[0;31mFileNotFoundError\u001b[0m                         Traceback (most recent call last)",
      "\u001b[0;32m~/anaconda3/envs/ont_qc/lib/python3.7/site-packages/IPython/core/formatters.py\u001b[0m in \u001b[0;36m__call__\u001b[0;34m(self, obj)\u001b[0m\n\u001b[1;32m    343\u001b[0m             \u001b[0mmethod\u001b[0m \u001b[0;34m=\u001b[0m \u001b[0mget_real_method\u001b[0m\u001b[0;34m(\u001b[0m\u001b[0mobj\u001b[0m\u001b[0;34m,\u001b[0m \u001b[0mself\u001b[0m\u001b[0;34m.\u001b[0m\u001b[0mprint_method\u001b[0m\u001b[0;34m)\u001b[0m\u001b[0;34m\u001b[0m\u001b[0;34m\u001b[0m\u001b[0m\n\u001b[1;32m    344\u001b[0m             \u001b[0;32mif\u001b[0m \u001b[0mmethod\u001b[0m \u001b[0;32mis\u001b[0m \u001b[0;32mnot\u001b[0m \u001b[0;32mNone\u001b[0m\u001b[0;34m:\u001b[0m\u001b[0;34m\u001b[0m\u001b[0;34m\u001b[0m\u001b[0m\n\u001b[0;32m--> 345\u001b[0;31m                 \u001b[0;32mreturn\u001b[0m \u001b[0mmethod\u001b[0m\u001b[0;34m(\u001b[0m\u001b[0;34m)\u001b[0m\u001b[0;34m\u001b[0m\u001b[0;34m\u001b[0m\u001b[0m\n\u001b[0m\u001b[1;32m    346\u001b[0m             \u001b[0;32mreturn\u001b[0m \u001b[0;32mNone\u001b[0m\u001b[0;34m\u001b[0m\u001b[0;34m\u001b[0m\u001b[0m\n\u001b[1;32m    347\u001b[0m         \u001b[0;32melse\u001b[0m\u001b[0;34m:\u001b[0m\u001b[0;34m\u001b[0m\u001b[0;34m\u001b[0m\u001b[0m\n",
      "\u001b[0;32m~/anaconda3/envs/ont_qc/lib/python3.7/site-packages/IPython/core/display.py\u001b[0m in \u001b[0;36m_repr_png_\u001b[0;34m(self)\u001b[0m\n\u001b[1;32m   1283\u001b[0m     \u001b[0;32mdef\u001b[0m \u001b[0m_repr_png_\u001b[0m\u001b[0;34m(\u001b[0m\u001b[0mself\u001b[0m\u001b[0;34m)\u001b[0m\u001b[0;34m:\u001b[0m\u001b[0;34m\u001b[0m\u001b[0;34m\u001b[0m\u001b[0m\n\u001b[1;32m   1284\u001b[0m         \u001b[0;32mif\u001b[0m \u001b[0mself\u001b[0m\u001b[0;34m.\u001b[0m\u001b[0membed\u001b[0m \u001b[0;32mand\u001b[0m \u001b[0mself\u001b[0m\u001b[0;34m.\u001b[0m\u001b[0mformat\u001b[0m \u001b[0;34m==\u001b[0m \u001b[0mself\u001b[0m\u001b[0;34m.\u001b[0m\u001b[0m_FMT_PNG\u001b[0m\u001b[0;34m:\u001b[0m\u001b[0;34m\u001b[0m\u001b[0;34m\u001b[0m\u001b[0m\n\u001b[0;32m-> 1285\u001b[0;31m             \u001b[0;32mreturn\u001b[0m \u001b[0mself\u001b[0m\u001b[0;34m.\u001b[0m\u001b[0m_data_and_metadata\u001b[0m\u001b[0;34m(\u001b[0m\u001b[0;34m)\u001b[0m\u001b[0;34m\u001b[0m\u001b[0;34m\u001b[0m\u001b[0m\n\u001b[0m\u001b[1;32m   1286\u001b[0m \u001b[0;34m\u001b[0m\u001b[0m\n\u001b[1;32m   1287\u001b[0m     \u001b[0;32mdef\u001b[0m \u001b[0m_repr_jpeg_\u001b[0m\u001b[0;34m(\u001b[0m\u001b[0mself\u001b[0m\u001b[0;34m)\u001b[0m\u001b[0;34m:\u001b[0m\u001b[0;34m\u001b[0m\u001b[0;34m\u001b[0m\u001b[0m\n",
      "\u001b[0;32m~/anaconda3/envs/ont_qc/lib/python3.7/site-packages/IPython/core/display.py\u001b[0m in \u001b[0;36m_data_and_metadata\u001b[0;34m(self, always_both)\u001b[0m\n\u001b[1;32m   1266\u001b[0m         \u001b[0;32mexcept\u001b[0m \u001b[0mTypeError\u001b[0m\u001b[0;34m:\u001b[0m\u001b[0;34m\u001b[0m\u001b[0;34m\u001b[0m\u001b[0m\n\u001b[1;32m   1267\u001b[0m             raise FileNotFoundError(\n\u001b[0;32m-> 1268\u001b[0;31m                 \"No such file or directory: '%s'\" % (self.data))\n\u001b[0m\u001b[1;32m   1269\u001b[0m         \u001b[0mmd\u001b[0m \u001b[0;34m=\u001b[0m \u001b[0;34m{\u001b[0m\u001b[0;34m}\u001b[0m\u001b[0;34m\u001b[0m\u001b[0;34m\u001b[0m\u001b[0m\n\u001b[1;32m   1270\u001b[0m         \u001b[0;32mif\u001b[0m \u001b[0mself\u001b[0m\u001b[0;34m.\u001b[0m\u001b[0mmetadata\u001b[0m\u001b[0;34m:\u001b[0m\u001b[0;34m\u001b[0m\u001b[0;34m\u001b[0m\u001b[0m\n",
      "\u001b[0;31mFileNotFoundError\u001b[0m: No such file or directory: 'result/4.assembly/unicycler/assembly_draw.png'"
     ]
    },
    {
     "data": {
      "text/plain": [
       "<IPython.core.display.Image object>"
      ]
     },
     "metadata": {},
     "output_type": "display_data"
    }
   ],
   "source": [
    "from IPython.core.display import Image, display\n",
    "display(Image('result/4.assembly/unicycler/assembly_unicycler_draw.png', width=750))\n"
   ]
  },
  {
   "cell_type": "markdown",
   "metadata": {},
   "source": [
    "---"
   ]
  },
  {
   "cell_type": "markdown",
   "metadata": {},
   "source": [
    "### Flye"
   ]
  },
  {
   "cell_type": "code",
   "execution_count": 20,
   "metadata": {
    "scrolled": true
   },
   "outputs": [
    {
     "name": "stderr",
     "output_type": "stream",
     "text": [
      "[2019-08-26 00:57:14] INFO: Starting Flye 2.5-release\n",
      "[2019-08-26 00:57:14] INFO: >>>STAGE: configure\n",
      "[2019-08-26 00:57:14] INFO: Configuring run\n",
      "[2019-08-26 00:57:15] INFO: Total read length: 60882258\n",
      "[2019-08-26 00:57:15] INFO: Input genome size: 2900000\n",
      "[2019-08-26 00:57:15] INFO: Estimated coverage: 20\n",
      "[2019-08-26 00:57:15] INFO: Reads N50/N90: 40828 / 28463\n",
      "[2019-08-26 00:57:15] INFO: Minimum overlap set to 5000\n",
      "[2019-08-26 00:57:15] INFO: Selected k-mer size: 15\n",
      "[2019-08-26 00:57:15] INFO: >>>STAGE: assembly\n",
      "[2019-08-26 00:57:15] INFO: Assembling disjointigs\n",
      "[2019-08-26 00:57:15] INFO: Reading sequences\n",
      "[2019-08-26 00:57:15] INFO: Generating solid k-mer index\n",
      "[2019-08-26 00:57:20] INFO: Counting k-mers (1/2):\n",
      "0% 10% 20% 30% 40% 50% 60% 70% 80% 90% 100% \n",
      "[2019-08-26 00:57:23] INFO: Counting k-mers (2/2):\n",
      "0% 10% 20% 30% 40% 50% 60% 70% 80% 90% 100% \n",
      "[2019-08-26 00:57:28] INFO: Filling index table\n",
      "0% 10% 20% 30% 40% 50% 60% 70% 80% 90% 100% \n",
      "[2019-08-26 00:58:11] INFO: Extending reads\n",
      "[2019-08-26 00:59:42] INFO: Overlap-based coverage: 20\n",
      "[2019-08-26 00:59:42] INFO: Median overlap divergence: 0.113374\n",
      "0% 10% 20% 30% 40% 50% 60% 70% 80% 90% 100% \n",
      "[2019-08-26 00:59:46] INFO: Assembled 1 disjointigs\n",
      "[2019-08-26 00:59:46] INFO: Generating sequence\n",
      "0% 10% 20% 30% 40% 50% 60% 70% 80% 90% 100% \n",
      "[2019-08-26 01:00:48] INFO: >>>STAGE: consensus\n",
      "[2019-08-26 01:00:48] INFO: Running Minimap2\n",
      "[2019-08-26 01:00:55] INFO: Computing consensus\n",
      "[2019-08-26 01:01:41] INFO: Alignment error rate: 0.118943492676\n",
      "[2019-08-26 01:01:41] INFO: >>>STAGE: repeat\n",
      "[2019-08-26 01:01:41] INFO: Building and resolving repeat graph\n",
      "[2019-08-26 01:01:41] INFO: Reading sequences\n",
      "[2019-08-26 01:01:42] INFO: Building repeat graph\n",
      "50% 100% \n",
      "[2019-08-26 01:01:50] INFO: Median overlap divergence: 0.0237162\n",
      "[2019-08-26 01:01:50] INFO: Aligning reads to the graph\n",
      "0% 10% 20% 30% 40% 50% 60% 70% 80% 90% 100% \n",
      "[2019-08-26 01:02:05] INFO: Aligned read sequence: 60513450 / 60882258 (0.993942)\n",
      "[2019-08-26 01:02:05] INFO: Median overlap divergence: 0.0557945\n",
      "[2019-08-26 01:02:05] INFO: Mean edge coverage: 21\n",
      "[2019-08-26 01:02:05] INFO: Resolving repeats\n",
      "[2019-08-26 01:02:05] INFO: >>>STAGE: trestle\n",
      "[2019-08-26 01:02:05] INFO: Simple unbridged repeats: 0\n",
      "[2019-08-26 01:02:05] INFO: Resolved: 0\n",
      "[2019-08-26 01:02:05] INFO: >>>STAGE: contigger\n",
      "[2019-08-26 01:02:05] INFO: Generating contigs\n",
      "[2019-08-26 01:02:05] INFO: Reading sequences\n",
      "[2019-08-26 01:02:06] INFO: Generated 1 contigs\n",
      "[2019-08-26 01:02:06] INFO: >>>STAGE: polishing\n",
      "[2019-08-26 01:02:06] INFO: Polishing genome (1/1)\n",
      "[2019-08-26 01:02:06] INFO: Running minimap2\n",
      "[2019-08-26 01:02:11] INFO: Separating alignment into bubbles\n",
      "[2019-08-26 01:03:47] INFO: Alignment error rate: 0.07464701729\n",
      "[2019-08-26 01:03:47] INFO: Correcting bubbles\n",
      "0% 10% 20% 30% 40% 50% 60% 70% 80% 90% 100% \n",
      "[2019-08-26 01:04:52] INFO: >>>STAGE: finalize\n",
      "[2019-08-26 01:04:52] INFO: Assembly statistics:\n",
      "\n",
      "\tTotal length:\t2889408\n",
      "\tFragments:\t1\n",
      "\tFragments N50:\t2889408\n",
      "\tLargest frg:\t2889408\n",
      "\tScaffolds:\t0\n",
      "\tMean coverage:\t20\n",
      "\n",
      "[2019-08-26 01:04:52] INFO: Final assembly: /Users/piroonjenjaroenpun/Desktop/project/workshop/19_ONT_at_KMUTT/ont_workshop/result/4.assembly/flye/assembly.fasta\n",
      "\n",
      "real\t7m38.171s\n",
      "user\t18m59.477s\n",
      "sys\t0m23.323s\n"
     ]
    }
   ],
   "source": [
    "%%bash\n",
    "in_fqPchopFilt=result/2.reads_filter/reads.pchop.filt.fastq.gz\n",
    "out_flye=result/4.assembly/flye\n",
    "time flye --nano-raw $in_fqPchopFilt --out-dir $out_flye --genome-size 2.9m --threads 4"
   ]
  },
  {
   "cell_type": "code",
   "execution_count": null,
   "metadata": {},
   "outputs": [],
   "source": [
    "%%bash\n",
    "source /opt/anaconda3/bin/activate bandage\n",
    "in_assemGFA=result/4.assembly/flye/assembly_graph.gfa\n",
    "out_assemDraw=result/4.assembly/flye/assembly_flye_draw.png\n",
    "Bandage image $in_assemGFA $out_assemDraw"
   ]
  },
  {
   "cell_type": "code",
   "execution_count": 1,
   "metadata": {
    "scrolled": true
   },
   "outputs": [
    {
     "ename": "FileNotFoundError",
     "evalue": "No such file or directory: 'result/4.assembly/unicycler/assembly_draw.png'",
     "output_type": "error",
     "traceback": [
      "\u001b[0;31m---------------------------------------------------------------------------\u001b[0m",
      "\u001b[0;31mTypeError\u001b[0m                                 Traceback (most recent call last)",
      "\u001b[0;32m~/anaconda3/envs/ont_qc/lib/python3.7/site-packages/IPython/core/display.py\u001b[0m in \u001b[0;36m_data_and_metadata\u001b[0;34m(self, always_both)\u001b[0m\n\u001b[1;32m   1264\u001b[0m         \u001b[0;32mtry\u001b[0m\u001b[0;34m:\u001b[0m\u001b[0;34m\u001b[0m\u001b[0;34m\u001b[0m\u001b[0m\n\u001b[0;32m-> 1265\u001b[0;31m             \u001b[0mb64_data\u001b[0m \u001b[0;34m=\u001b[0m \u001b[0mb2a_base64\u001b[0m\u001b[0;34m(\u001b[0m\u001b[0mself\u001b[0m\u001b[0;34m.\u001b[0m\u001b[0mdata\u001b[0m\u001b[0;34m)\u001b[0m\u001b[0;34m.\u001b[0m\u001b[0mdecode\u001b[0m\u001b[0;34m(\u001b[0m\u001b[0;34m'ascii'\u001b[0m\u001b[0;34m)\u001b[0m\u001b[0;34m\u001b[0m\u001b[0;34m\u001b[0m\u001b[0m\n\u001b[0m\u001b[1;32m   1266\u001b[0m         \u001b[0;32mexcept\u001b[0m \u001b[0mTypeError\u001b[0m\u001b[0;34m:\u001b[0m\u001b[0;34m\u001b[0m\u001b[0;34m\u001b[0m\u001b[0m\n",
      "\u001b[0;31mTypeError\u001b[0m: a bytes-like object is required, not 'str'",
      "\nDuring handling of the above exception, another exception occurred:\n",
      "\u001b[0;31mFileNotFoundError\u001b[0m                         Traceback (most recent call last)",
      "\u001b[0;32m~/anaconda3/envs/ont_qc/lib/python3.7/site-packages/IPython/core/formatters.py\u001b[0m in \u001b[0;36m__call__\u001b[0;34m(self, obj, include, exclude)\u001b[0m\n\u001b[1;32m    968\u001b[0m \u001b[0;34m\u001b[0m\u001b[0m\n\u001b[1;32m    969\u001b[0m             \u001b[0;32mif\u001b[0m \u001b[0mmethod\u001b[0m \u001b[0;32mis\u001b[0m \u001b[0;32mnot\u001b[0m \u001b[0;32mNone\u001b[0m\u001b[0;34m:\u001b[0m\u001b[0;34m\u001b[0m\u001b[0;34m\u001b[0m\u001b[0m\n\u001b[0;32m--> 970\u001b[0;31m                 \u001b[0;32mreturn\u001b[0m \u001b[0mmethod\u001b[0m\u001b[0;34m(\u001b[0m\u001b[0minclude\u001b[0m\u001b[0;34m=\u001b[0m\u001b[0minclude\u001b[0m\u001b[0;34m,\u001b[0m \u001b[0mexclude\u001b[0m\u001b[0;34m=\u001b[0m\u001b[0mexclude\u001b[0m\u001b[0;34m)\u001b[0m\u001b[0;34m\u001b[0m\u001b[0;34m\u001b[0m\u001b[0m\n\u001b[0m\u001b[1;32m    971\u001b[0m             \u001b[0;32mreturn\u001b[0m \u001b[0;32mNone\u001b[0m\u001b[0;34m\u001b[0m\u001b[0;34m\u001b[0m\u001b[0m\n\u001b[1;32m    972\u001b[0m         \u001b[0;32melse\u001b[0m\u001b[0;34m:\u001b[0m\u001b[0;34m\u001b[0m\u001b[0;34m\u001b[0m\u001b[0m\n",
      "\u001b[0;32m~/anaconda3/envs/ont_qc/lib/python3.7/site-packages/IPython/core/display.py\u001b[0m in \u001b[0;36m_repr_mimebundle_\u001b[0;34m(self, include, exclude)\u001b[0m\n\u001b[1;32m   1253\u001b[0m         \u001b[0;32mif\u001b[0m \u001b[0mself\u001b[0m\u001b[0;34m.\u001b[0m\u001b[0membed\u001b[0m\u001b[0;34m:\u001b[0m\u001b[0;34m\u001b[0m\u001b[0;34m\u001b[0m\u001b[0m\n\u001b[1;32m   1254\u001b[0m             \u001b[0mmimetype\u001b[0m \u001b[0;34m=\u001b[0m \u001b[0mself\u001b[0m\u001b[0;34m.\u001b[0m\u001b[0m_mimetype\u001b[0m\u001b[0;34m\u001b[0m\u001b[0;34m\u001b[0m\u001b[0m\n\u001b[0;32m-> 1255\u001b[0;31m             \u001b[0mdata\u001b[0m\u001b[0;34m,\u001b[0m \u001b[0mmetadata\u001b[0m \u001b[0;34m=\u001b[0m \u001b[0mself\u001b[0m\u001b[0;34m.\u001b[0m\u001b[0m_data_and_metadata\u001b[0m\u001b[0;34m(\u001b[0m\u001b[0malways_both\u001b[0m\u001b[0;34m=\u001b[0m\u001b[0;32mTrue\u001b[0m\u001b[0;34m)\u001b[0m\u001b[0;34m\u001b[0m\u001b[0;34m\u001b[0m\u001b[0m\n\u001b[0m\u001b[1;32m   1256\u001b[0m             \u001b[0;32mif\u001b[0m \u001b[0mmetadata\u001b[0m\u001b[0;34m:\u001b[0m\u001b[0;34m\u001b[0m\u001b[0;34m\u001b[0m\u001b[0m\n\u001b[1;32m   1257\u001b[0m                 \u001b[0mmetadata\u001b[0m \u001b[0;34m=\u001b[0m \u001b[0;34m{\u001b[0m\u001b[0mmimetype\u001b[0m\u001b[0;34m:\u001b[0m \u001b[0mmetadata\u001b[0m\u001b[0;34m}\u001b[0m\u001b[0;34m\u001b[0m\u001b[0;34m\u001b[0m\u001b[0m\n",
      "\u001b[0;32m~/anaconda3/envs/ont_qc/lib/python3.7/site-packages/IPython/core/display.py\u001b[0m in \u001b[0;36m_data_and_metadata\u001b[0;34m(self, always_both)\u001b[0m\n\u001b[1;32m   1266\u001b[0m         \u001b[0;32mexcept\u001b[0m \u001b[0mTypeError\u001b[0m\u001b[0;34m:\u001b[0m\u001b[0;34m\u001b[0m\u001b[0;34m\u001b[0m\u001b[0m\n\u001b[1;32m   1267\u001b[0m             raise FileNotFoundError(\n\u001b[0;32m-> 1268\u001b[0;31m                 \"No such file or directory: '%s'\" % (self.data))\n\u001b[0m\u001b[1;32m   1269\u001b[0m         \u001b[0mmd\u001b[0m \u001b[0;34m=\u001b[0m \u001b[0;34m{\u001b[0m\u001b[0;34m}\u001b[0m\u001b[0;34m\u001b[0m\u001b[0;34m\u001b[0m\u001b[0m\n\u001b[1;32m   1270\u001b[0m         \u001b[0;32mif\u001b[0m \u001b[0mself\u001b[0m\u001b[0;34m.\u001b[0m\u001b[0mmetadata\u001b[0m\u001b[0;34m:\u001b[0m\u001b[0;34m\u001b[0m\u001b[0;34m\u001b[0m\u001b[0m\n",
      "\u001b[0;31mFileNotFoundError\u001b[0m: No such file or directory: 'result/4.assembly/unicycler/assembly_draw.png'"
     ]
    },
    {
     "ename": "FileNotFoundError",
     "evalue": "No such file or directory: 'result/4.assembly/unicycler/assembly_draw.png'",
     "output_type": "error",
     "traceback": [
      "\u001b[0;31m---------------------------------------------------------------------------\u001b[0m",
      "\u001b[0;31mTypeError\u001b[0m                                 Traceback (most recent call last)",
      "\u001b[0;32m~/anaconda3/envs/ont_qc/lib/python3.7/site-packages/IPython/core/display.py\u001b[0m in \u001b[0;36m_data_and_metadata\u001b[0;34m(self, always_both)\u001b[0m\n\u001b[1;32m   1264\u001b[0m         \u001b[0;32mtry\u001b[0m\u001b[0;34m:\u001b[0m\u001b[0;34m\u001b[0m\u001b[0;34m\u001b[0m\u001b[0m\n\u001b[0;32m-> 1265\u001b[0;31m             \u001b[0mb64_data\u001b[0m \u001b[0;34m=\u001b[0m \u001b[0mb2a_base64\u001b[0m\u001b[0;34m(\u001b[0m\u001b[0mself\u001b[0m\u001b[0;34m.\u001b[0m\u001b[0mdata\u001b[0m\u001b[0;34m)\u001b[0m\u001b[0;34m.\u001b[0m\u001b[0mdecode\u001b[0m\u001b[0;34m(\u001b[0m\u001b[0;34m'ascii'\u001b[0m\u001b[0;34m)\u001b[0m\u001b[0;34m\u001b[0m\u001b[0;34m\u001b[0m\u001b[0m\n\u001b[0m\u001b[1;32m   1266\u001b[0m         \u001b[0;32mexcept\u001b[0m \u001b[0mTypeError\u001b[0m\u001b[0;34m:\u001b[0m\u001b[0;34m\u001b[0m\u001b[0;34m\u001b[0m\u001b[0m\n",
      "\u001b[0;31mTypeError\u001b[0m: a bytes-like object is required, not 'str'",
      "\nDuring handling of the above exception, another exception occurred:\n",
      "\u001b[0;31mFileNotFoundError\u001b[0m                         Traceback (most recent call last)",
      "\u001b[0;32m~/anaconda3/envs/ont_qc/lib/python3.7/site-packages/IPython/core/formatters.py\u001b[0m in \u001b[0;36m__call__\u001b[0;34m(self, obj)\u001b[0m\n\u001b[1;32m    343\u001b[0m             \u001b[0mmethod\u001b[0m \u001b[0;34m=\u001b[0m \u001b[0mget_real_method\u001b[0m\u001b[0;34m(\u001b[0m\u001b[0mobj\u001b[0m\u001b[0;34m,\u001b[0m \u001b[0mself\u001b[0m\u001b[0;34m.\u001b[0m\u001b[0mprint_method\u001b[0m\u001b[0;34m)\u001b[0m\u001b[0;34m\u001b[0m\u001b[0;34m\u001b[0m\u001b[0m\n\u001b[1;32m    344\u001b[0m             \u001b[0;32mif\u001b[0m \u001b[0mmethod\u001b[0m \u001b[0;32mis\u001b[0m \u001b[0;32mnot\u001b[0m \u001b[0;32mNone\u001b[0m\u001b[0;34m:\u001b[0m\u001b[0;34m\u001b[0m\u001b[0;34m\u001b[0m\u001b[0m\n\u001b[0;32m--> 345\u001b[0;31m                 \u001b[0;32mreturn\u001b[0m \u001b[0mmethod\u001b[0m\u001b[0;34m(\u001b[0m\u001b[0;34m)\u001b[0m\u001b[0;34m\u001b[0m\u001b[0;34m\u001b[0m\u001b[0m\n\u001b[0m\u001b[1;32m    346\u001b[0m             \u001b[0;32mreturn\u001b[0m \u001b[0;32mNone\u001b[0m\u001b[0;34m\u001b[0m\u001b[0;34m\u001b[0m\u001b[0m\n\u001b[1;32m    347\u001b[0m         \u001b[0;32melse\u001b[0m\u001b[0;34m:\u001b[0m\u001b[0;34m\u001b[0m\u001b[0;34m\u001b[0m\u001b[0m\n",
      "\u001b[0;32m~/anaconda3/envs/ont_qc/lib/python3.7/site-packages/IPython/core/display.py\u001b[0m in \u001b[0;36m_repr_png_\u001b[0;34m(self)\u001b[0m\n\u001b[1;32m   1283\u001b[0m     \u001b[0;32mdef\u001b[0m \u001b[0m_repr_png_\u001b[0m\u001b[0;34m(\u001b[0m\u001b[0mself\u001b[0m\u001b[0;34m)\u001b[0m\u001b[0;34m:\u001b[0m\u001b[0;34m\u001b[0m\u001b[0;34m\u001b[0m\u001b[0m\n\u001b[1;32m   1284\u001b[0m         \u001b[0;32mif\u001b[0m \u001b[0mself\u001b[0m\u001b[0;34m.\u001b[0m\u001b[0membed\u001b[0m \u001b[0;32mand\u001b[0m \u001b[0mself\u001b[0m\u001b[0;34m.\u001b[0m\u001b[0mformat\u001b[0m \u001b[0;34m==\u001b[0m \u001b[0mself\u001b[0m\u001b[0;34m.\u001b[0m\u001b[0m_FMT_PNG\u001b[0m\u001b[0;34m:\u001b[0m\u001b[0;34m\u001b[0m\u001b[0;34m\u001b[0m\u001b[0m\n\u001b[0;32m-> 1285\u001b[0;31m             \u001b[0;32mreturn\u001b[0m \u001b[0mself\u001b[0m\u001b[0;34m.\u001b[0m\u001b[0m_data_and_metadata\u001b[0m\u001b[0;34m(\u001b[0m\u001b[0;34m)\u001b[0m\u001b[0;34m\u001b[0m\u001b[0;34m\u001b[0m\u001b[0m\n\u001b[0m\u001b[1;32m   1286\u001b[0m \u001b[0;34m\u001b[0m\u001b[0m\n\u001b[1;32m   1287\u001b[0m     \u001b[0;32mdef\u001b[0m \u001b[0m_repr_jpeg_\u001b[0m\u001b[0;34m(\u001b[0m\u001b[0mself\u001b[0m\u001b[0;34m)\u001b[0m\u001b[0;34m:\u001b[0m\u001b[0;34m\u001b[0m\u001b[0;34m\u001b[0m\u001b[0m\n",
      "\u001b[0;32m~/anaconda3/envs/ont_qc/lib/python3.7/site-packages/IPython/core/display.py\u001b[0m in \u001b[0;36m_data_and_metadata\u001b[0;34m(self, always_both)\u001b[0m\n\u001b[1;32m   1266\u001b[0m         \u001b[0;32mexcept\u001b[0m \u001b[0mTypeError\u001b[0m\u001b[0;34m:\u001b[0m\u001b[0;34m\u001b[0m\u001b[0;34m\u001b[0m\u001b[0m\n\u001b[1;32m   1267\u001b[0m             raise FileNotFoundError(\n\u001b[0;32m-> 1268\u001b[0;31m                 \"No such file or directory: '%s'\" % (self.data))\n\u001b[0m\u001b[1;32m   1269\u001b[0m         \u001b[0mmd\u001b[0m \u001b[0;34m=\u001b[0m \u001b[0;34m{\u001b[0m\u001b[0;34m}\u001b[0m\u001b[0;34m\u001b[0m\u001b[0;34m\u001b[0m\u001b[0m\n\u001b[1;32m   1270\u001b[0m         \u001b[0;32mif\u001b[0m \u001b[0mself\u001b[0m\u001b[0;34m.\u001b[0m\u001b[0mmetadata\u001b[0m\u001b[0;34m:\u001b[0m\u001b[0;34m\u001b[0m\u001b[0;34m\u001b[0m\u001b[0m\n",
      "\u001b[0;31mFileNotFoundError\u001b[0m: No such file or directory: 'result/4.assembly/unicycler/assembly_draw.png'"
     ]
    },
    {
     "data": {
      "text/plain": [
       "<IPython.core.display.Image object>"
      ]
     },
     "metadata": {},
     "output_type": "display_data"
    }
   ],
   "source": [
    "from IPython.core.display import Image, display\n",
    "display(Image('result/4.assembly/flye/assembly_flye_draw.png', width=750))\n"
   ]
  },
  {
   "cell_type": "code",
   "execution_count": 27,
   "metadata": {},
   "outputs": [
    {
     "name": "stderr",
     "output_type": "stream",
     "text": [
      "[M::mm_idx_gen::0.069*1.02] collected minimizers\n",
      "[M::mm_idx_gen::0.078*1.24] sorted minimizers\n",
      "[M::main::0.078*1.24] loaded/built the index for 1 target sequence(s)\n",
      "[M::mm_mapopt_update::0.082*1.23] mid_occ = 100\n",
      "[M::mm_idx_stat] kmer size: 19; skip: 19; is_hpc: 0; #seq: 1\n",
      "[M::mm_idx_stat::0.085*1.22] distinct minimizers: 281517 (99.09% are singletons); average occurrences: 1.019; average spacing: 10.006\n",
      "[M::worker_pipeline::0.232*1.07] mapped 1 sequences\n",
      "[M::main] Version: 2.17-r941\n",
      "[M::main] CMD: minimap2 -x asm5 result/4.assembly/unicycler/assembly.fasta result/4.assembly/flye/assembly.fasta\n",
      "[M::main] Real time: 0.247 sec; CPU: 0.262 sec; Peak RSS: 0.044 GB\n"
     ]
    }
   ],
   "source": [
    "%%bash\n",
    "in_unicyclerAssem=result/4.assembly/unicycler/assembly.fasta\n",
    "in_flyeAssem=result/4.assembly/flye/assembly.fasta\n",
    "mkdir -p result/5.comparative\n",
    "out_uni_vs_flye_paf=result/5.comparative/uni_vs_flye.paf\n",
    "minimap2 -x asm5 $in_unicyclerAssem $in_flyeAssem > $out_uni_vs_flye_paf\n"
   ]
  },
  {
   "cell_type": "code",
   "execution_count": 29,
   "metadata": {},
   "outputs": [
    {
     "name": "stdout",
     "output_type": "stream",
     "text": [
      "PARAMETERS:\n",
      "input (-i): result/5.comparative/uni_vs_flye.paf\n",
      "output (-o): result/5.comparative/uni_vs_flye\n",
      "minimum query aggregate alignment length (-q): 5e+05\n",
      "minimum alignment length (-m): 500\n",
      "plot size (-p): 7\n",
      "show horizontal lines (-l): TRUE\n",
      "number of reference chromosomes to keep (-k): 7\n",
      "show % identity (-s): FALSE\n",
      "show % identity for on-target alignments only (-t): FALSE\n",
      "produce interactive plot (-x): TRUE\n",
      "reference IDs to keep (-r): \n",
      "\n",
      "Number of alignments: 2\n",
      "Number of query sequences: 1\n",
      "\n",
      "After filtering... Number of alignments: 2\n",
      "After filtering... Number of query sequences: 1\n",
      "\n",
      "No traceback available \n"
     ]
    },
    {
     "name": "stderr",
     "output_type": "stream",
     "text": [
      "Warning: Ignoring unknown aesthetics: text\n",
      "Error in normalizePath(basepath, \"/\", TRUE) : \n",
      "  path[1]=\"result/5.comparative\": No such file or directory\n",
      "Calls: <Anonymous> ... pandoc_save_markdown -> lapply -> FUN -> <Anonymous> -> normalizePath\n"
     ]
    }
   ],
   "source": [
    "%%bash\n",
    "Rscript scripts/pafCoordsDotPlotly.R -i result/5.comparative/uni_vs_flye.paf \\\n",
    "  -o result/5.comparative/uni_vs_flye -t -m 500 -q 500000 -k 7 -l -p 7"
   ]
  }
 ],
 "metadata": {
  "kernelspec": {
   "display_name": "Python [conda env:ont_assembly]",
   "language": "python",
   "name": "conda-env-ont_assembly-py"
  },
  "language_info": {
   "codemirror_mode": {
    "name": "ipython",
    "version": 3
   },
   "file_extension": ".py",
   "mimetype": "text/x-python",
   "name": "python",
   "nbconvert_exporter": "python",
   "pygments_lexer": "ipython3",
   "version": "3.6.7"
  }
 },
 "nbformat": 4,
 "nbformat_minor": 2
}
